{
 "cells": [
  {
   "cell_type": "code",
   "execution_count": 1,
   "metadata": {},
   "outputs": [],
   "source": [
    "import pandas as PD\n",
    "import numpy as NP\n",
    "import pickle\n",
    "import matplotlib.pyplot as plt\n",
    "from sklearn.model_selection import train_test_split, GridSearchCV\n",
    "from sklearn.metrics import accuracy_score, f1_score, classification_report\n",
    "from sklearn.feature_extraction.text import TfidfVectorizer, CountVectorizer\n",
    "from sklearn.naive_bayes import MultinomialNB\n",
    "from sklearn.svm import LinearSVC\n",
    "from sklearn.linear_model import LogisticRegression\n",
    "from sklearn.tree import DecisionTreeClassifier\n",
    "from sklearn.ensemble import GradientBoostingClassifier\n",
    "from xgboost import XGBClassifier, cv, DMatrix\n",
    "\n",
    "import preprof      #my functions"
   ]
  },
  {
   "cell_type": "code",
   "execution_count": 2,
   "metadata": {},
   "outputs": [
    {
     "data": {
      "text/plain": [
       "(682, 3)"
      ]
     },
     "execution_count": 2,
     "metadata": {},
     "output_type": "execute_result"
    }
   ],
   "source": [
    "# import papers\n",
    "csv = '/Users/cdw/Desktop/pkpd_script/MNCA_ANALYSIS/ready_processed_2.csv'\n",
    "papers=PD.read_csv(csv)\n",
    "\n",
    "# select only relevant papers\n",
    "relevant = ['Non-compartmental','Modelling']\n",
    "relevant_papers = papers.loc[papers['category'].isin(relevant)]\n",
    "relevant_papers.shape"
   ]
  },
  {
   "cell_type": "code",
   "execution_count": 3,
   "metadata": {},
   "outputs": [
    {
     "name": "stdout",
     "output_type": "stream",
     "text": [
      "#NCA: 239\n",
      "#Modelling: 443\n"
     ]
    }
   ],
   "source": [
    "num_nca=relevant_papers.loc[papers['category']=='Non-compartmental'].shape[0]\n",
    "num_mod=relevant_papers.loc[papers['category']=='Modelling'].shape[0]\n",
    "print('#NCA: {}'.format(num_nca))\n",
    "print('#Modelling: {}'.format(num_mod))"
   ]
  },
  {
   "cell_type": "code",
   "execution_count": 4,
   "metadata": {},
   "outputs": [],
   "source": [
    "rd_seed = 61097\n",
    "x = [a.split('!$!') for a in relevant_papers.loc[:,'words']]\n",
    "y = relevant_papers.loc[:,'category']\n",
    "\n",
    "def fake_tokeniser(text):\n",
    "    return text\n",
    "\n",
    "bag_of_words = CountVectorizer(analyzer='word',tokenizer=fake_tokeniser,preprocessor=fake_tokeniser,lowercase=False,token_pattern=None)\n",
    "tf_idf = TfidfVectorizer(analyzer='word',tokenizer=fake_tokeniser,preprocessor=fake_tokeniser,lowercase=False,token_pattern=None)\n",
    "\n",
    "bow = bag_of_words.fit_transform(x)\n",
    "bow_names = bag_of_words.get_feature_names()\n",
    "\n",
    "tfidf = tf_idf.fit_transform(x)\n",
    "tfidf_names = tf_idf.get_feature_names()\n",
    "\n",
    "x_train_b,x_test_b,y_train_b,y_test_b=train_test_split(bow,y,test_size=0.15,random_state=rd_seed,stratify=y)\n",
    "x_train_t,x_test_t,y_train_t,y_test_t=train_test_split(tfidf,y,test_size=0.15,random_state=rd_seed,stratify=y)"
   ]
  },
  {
   "cell_type": "code",
   "execution_count": 5,
   "metadata": {},
   "outputs": [],
   "source": [
    "pickle.dump(bow,open('bow_nofeats','wb'))\n",
    "pickle.dump(tfidf,open('tfidf_nofeats','wb'))"
   ]
  },
  {
   "cell_type": "code",
   "execution_count": 6,
   "metadata": {},
   "outputs": [],
   "source": [
    "acc_scores={}\n",
    "f1_scores={}"
   ]
  },
  {
   "cell_type": "code",
   "execution_count": 7,
   "metadata": {},
   "outputs": [],
   "source": [
    "def assess_classifier(cls,name,**args):\n",
    "    global x_train_b,x_test_b,y_train_b,y_test_b,x_train_t,x_test_t,y_train_t,y_test_t\n",
    "    global acc_scores,f1_scores\n",
    "    \n",
    "    for k,v in args.items():\n",
    "    \n",
    "        if v=='bow':\n",
    "            cls.fit(x_train_b,y_train_b)\n",
    "            y_pred=cls.predict(x_test_b)\n",
    "            acc=accuracy_score(y_test_b,y_pred)\n",
    "            acc_scores[name+'_b']=acc\n",
    "            f1=f1_score(y_test_b,y_pred,pos_label='Non-compartmental')\n",
    "            f1_scores[name+'_b']=f1\n",
    "\n",
    "        if v=='tfidf':\n",
    "            cls.fit(x_train_t,y_train_t)\n",
    "            y_pred=cls.predict(x_test_t)\n",
    "            acc=accuracy_score(y_test_t,y_pred)\n",
    "            acc_scores[name+'_t']=acc\n",
    "            f1=f1_score(y_test_t,y_pred,pos_label='Non-compartmental')\n",
    "            f1_scores[name+'_t']=f1"
   ]
  },
  {
   "cell_type": "code",
   "execution_count": 8,
   "metadata": {},
   "outputs": [],
   "source": [
    "mnb=MultinomialNB()\n",
    "svc=LinearSVC(max_iter=10000)\n",
    "lr=LogisticRegression(solver='liblinear')\n",
    "dtc=DecisionTreeClassifier()\n",
    "gbc=GradientBoostingClassifier()\n",
    "xgb=XGBClassifier()"
   ]
  },
  {
   "cell_type": "code",
   "execution_count": 9,
   "metadata": {},
   "outputs": [
    {
     "name": "stdout",
     "output_type": "stream",
     "text": [
      "1_b  1_t\n",
      "2_b  2_t\n",
      "3_b  3_t\n",
      "4_b  4_t\n",
      "5_b  5_t\n",
      "6_b  6_t\n"
     ]
    }
   ],
   "source": [
    "## evaluate each classifier using bow and tfidf\n",
    "\n",
    "classifiers = {mnb:'mnb',svc:'svc',lr:'lr',dtc:'dtc',gbc:'gbc',xgb:'xgb'}\n",
    "\n",
    "counter=0\n",
    "for cls,name in classifiers.items():\n",
    "    counter+=1\n",
    "    assess_classifier(cls,name,type='bow')\n",
    "    print('{}_b'.format(counter),end='  ')\n",
    "    assess_classifier(cls,name,type='tfidf')\n",
    "    print('{}_t'.format(counter),end='\\n')"
   ]
  },
  {
   "cell_type": "code",
   "execution_count": 11,
   "metadata": {},
   "outputs": [
    {
     "data": {
      "image/png": "[encoded data removed]",
      "text/plain": [
       "<Figure size 432x288 with 1 Axes>"
      ]
     },
     "metadata": {
      "needs_background": "light"
     },
     "output_type": "display_data"
    }
   ],
   "source": [
    "## plot accuracy & f1 of the evaluated classifiers\n",
    "\n",
    "x=NP.array([x for x in range(len(acc_scores))])\n",
    "ax = plt.subplot(111)\n",
    "ax.bar(x-0.15,acc_scores.values(),width=0.3,color='g',align='center',label='accuracy')\n",
    "ax.bar(x+0.15, f1_scores.values(),width=0.3,color='r',align='center',label='f1')\n",
    "plt.xticks(x,acc_scores.keys())\n",
    "plt.ylim((0.6,0.93))\n",
    "plt.legend()\n",
    "plt.title('accuracy&f1 vs classifier')\n",
    "plt.ylabel('accuracy&f1')\n",
    "plt.xlabel('classifier')\n",
    "plt.savefig('cls_acc_mnca.png')\n",
    "plt.show()"
   ]
  },
  {
   "cell_type": "markdown",
   "metadata": {},
   "source": [
    "From the accuracy and f1 metrics in the graph, LinearSVC using TFIDF has the highest accuracy and f1 scores<br><br><br><br>"
   ]
  }
 ],
 "metadata": {
  "kernelspec": {
   "display_name": "Python 3",
   "language": "python",
   "name": "python3"
  },
  "language_info": {
   "codemirror_mode": {
    "name": "ipython",
    "version": 3
   },
   "file_extension": ".py",
   "mimetype": "text/x-python",
   "name": "python",
   "nbconvert_exporter": "python",
   "pygments_lexer": "ipython3",
   "version": "3.7.0"
  }
 },
 "nbformat": 4,
 "nbformat_minor": 2
}
