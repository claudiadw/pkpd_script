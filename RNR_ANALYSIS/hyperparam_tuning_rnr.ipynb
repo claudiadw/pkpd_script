{
 "cells": [
  {
   "cell_type": "code",
   "execution_count": 1,
   "metadata": {},
   "outputs": [],
   "source": [
    "import pandas as PD\n",
    "import numpy as NP\n",
    "import pickle\n",
    "import matplotlib.pyplot as plt\n",
    "from sklearn.model_selection import train_test_split, GridSearchCV\n",
    "from sklearn.metrics import accuracy_score, f1_score, classification_report\n",
    "from sklearn.feature_extraction.text import TfidfVectorizer, CountVectorizer\n",
    "from sklearn.feature_selection import SelectFromModel\n",
    "from xgboost import XGBClassifier, cv, DMatrix\n",
    "\n",
    "import preprof      #my functions"
   ]
  },
  {
   "cell_type": "code",
   "execution_count": 2,
   "metadata": {},
   "outputs": [],
   "source": [
    "######## to run with the naive dataset, uncomment the following:\n",
    "\n",
    "# full=False\n",
    "\n",
    "\n",
    "\n",
    "\n",
    "######## to fun with the full dataset, uncomment below:\n",
    "\n",
    "full=True\n",
    "\n",
    "\n"
   ]
  },
  {
   "cell_type": "code",
   "execution_count": 3,
   "metadata": {},
   "outputs": [],
   "source": [
    "## initialise dataset\n",
    "\n",
    "if full:\n",
    "    csv = '/Users/cdw/Desktop/pkpd_script/RNR_ANALYSIS/ready_processed.csv'\n",
    "else:\n",
    "    csv = '/Users/cdw/Desktop/pkpd_script/RNR_ANALYSIS/all.csv'"
   ]
  },
  {
   "cell_type": "code",
   "execution_count": 4,
   "metadata": {},
   "outputs": [],
   "source": [
    "## convert to relevant or not relevant\n",
    "\n",
    "preprof.tidy_categories(csv)\n",
    "preprof.binary_categories(csv)\n",
    "    \n",
    "papers=PD.read_csv(csv)"
   ]
  },
  {
   "cell_type": "code",
   "execution_count": 5,
   "metadata": {},
   "outputs": [],
   "source": [
    "## convert into bow/tfidf\n",
    "\n",
    "rd_seed = 61097\n",
    "x = [a.split('!$!') for a in papers.loc[:,'words']]\n",
    "y = papers.loc[:,'category']\n",
    "\n",
    "def fake_tokeniser(text):\n",
    "    return text\n",
    "\n",
    "bag_of_words = CountVectorizer(analyzer='word',tokenizer=fake_tokeniser,preprocessor=fake_tokeniser,lowercase=False,token_pattern=None)\n",
    "tf_idf = TfidfVectorizer(analyzer='word',tokenizer=fake_tokeniser,preprocessor=fake_tokeniser,lowercase=False,token_pattern=None)\n",
    "\n",
    "def wm2df(wm, feat_names):  \n",
    "    doc_names = [f'Doc{idx}' for idx, _ in enumerate(wm)]\n",
    "    df = PD.DataFrame(data=wm.toarray(), index=doc_names,\n",
    "                      columns=feat_names)\n",
    "    return(df)\n",
    "\n",
    "bow = bag_of_words.fit_transform(x)\n",
    "bow_names = bag_of_words.get_feature_names()\n",
    "bow_matrix = wm2df(bow,bow_names)\n",
    "\n",
    "tfidf = tf_idf.fit_transform(x)\n",
    "tfidf_names = tf_idf.get_feature_names()\n",
    "tfidf_matrix = wm2df(tfidf,tfidf_names)"
   ]
  },
  {
   "cell_type": "code",
   "execution_count": 6,
   "metadata": {},
   "outputs": [],
   "source": [
    "##split train/test\n",
    "\n",
    "x_train_b,x_test_b,y_train_b,y_test_b=train_test_split(bow,y,test_size=0.15,random_state=rd_seed,stratify=y)\n",
    "x_train_t,x_test_t,y_train_t,y_test_t=train_test_split(tfidf,y,test_size=0.15,random_state=rd_seed,stratify=y)"
   ]
  },
  {
   "cell_type": "code",
   "execution_count": 7,
   "metadata": {},
   "outputs": [],
   "source": [
    "bowmodel=XGBClassifier().fit(x_train_b,y_train_b)\n",
    "selection = SelectFromModel(bowmodel, threshold=0.006968641, prefit=True)\n",
    "x_train_b=selection.transform(x_train_b)\n",
    "x_test_b=selection.transform(x_test_b)"
   ]
  },
  {
   "cell_type": "code",
   "execution_count": 8,
   "metadata": {},
   "outputs": [],
   "source": [
    "tfidfmodel=XGBClassifier().fit(x_train_t,y_train_t)\n",
    "selectiont = SelectFromModel(tfidfmodel,threshold=0.0067,prefit=True)\n",
    "x_train_t=selectiont.transform(x_train_t)\n",
    "x_test_t=selectiont.transform(x_test_t)"
   ]
  },
  {
   "cell_type": "code",
   "execution_count": 9,
   "metadata": {},
   "outputs": [
    {
     "name": "stdout",
     "output_type": "stream",
     "text": [
      "(1599, 36)\n"
     ]
    }
   ],
   "source": [
    "print(x_train_b.shape)"
   ]
  },
  {
   "cell_type": "code",
   "execution_count": 10,
   "metadata": {},
   "outputs": [
    {
     "name": "stdout",
     "output_type": "stream",
     "text": [
      "(1599, 50)\n"
     ]
    }
   ],
   "source": [
    "print(x_train_t.shape)"
   ]
  },
  {
   "cell_type": "markdown",
   "metadata": {},
   "source": [
    "<br><br><br><br><br><br><br><br>"
   ]
  },
  {
   "cell_type": "markdown",
   "metadata": {},
   "source": [
    "# hyperparameter tuning: xgboost BoW"
   ]
  },
  {
   "cell_type": "code",
   "execution_count": 11,
   "metadata": {},
   "outputs": [
    {
     "name": "stdout",
     "output_type": "stream",
     "text": [
      "Before hyperparameter tuning...\n",
      "Accuracy=0.901060070671378     f1=0.8627450980392157\n"
     ]
    }
   ],
   "source": [
    "original=XGBClassifier().fit(x_train_b,y_train_b)\n",
    "y_proriginal=original.predict(x_test_b)\n",
    "original_acc=accuracy_score(y_test_b,y_proriginal)\n",
    "original_f1=f1_score(y_test_b,y_proriginal,pos_label='Relevant')\n",
    "\n",
    "print('Before hyperparameter tuning...')\n",
    "print(f'Accuracy={original_acc}     f1={original_f1}')"
   ]
  },
  {
   "cell_type": "markdown",
   "metadata": {},
   "source": [
    "### optimisation of n_estimators"
   ]
  },
  {
   "cell_type": "code",
   "execution_count": 12,
   "metadata": {},
   "outputs": [],
   "source": [
    "xgb_b=XGBClassifier(n_estimators=200,seed=61097)"
   ]
  },
  {
   "cell_type": "code",
   "execution_count": 13,
   "metadata": {},
   "outputs": [],
   "source": [
    "xgb_b.fit(x_train_b,y_train_b,eval_set=[(x_train_b,y_train_b),\n",
    "                                         (x_test_b,y_test_b)],\n",
    "           eval_metric='error',verbose=False)\n",
    "\n",
    "xgb_b_eval=xgb_b.evals_result()\n",
    "n_estimators=range(len(xgb_b_eval['validation_0']['error']))"
   ]
  },
  {
   "cell_type": "code",
   "execution_count": 14,
   "metadata": {},
   "outputs": [
    {
     "data": {
      "image/png": "[encoded data removed]",
      "text/plain": [
       "<Figure size 432x288 with 1 Axes>"
      ]
     },
     "metadata": {
      "needs_background": "light"
     },
     "output_type": "display_data"
    }
   ],
   "source": [
    "plt.plot(n_estimators,[1-n for n in xgb_b_eval['validation_0']['error']],color='g',label='train')\n",
    "plt.plot(n_estimators,[1-n for n in xgb_b_eval['validation_1']['error']],color='b',label='test')\n",
    "plt.legend()\n",
    "plt.title('training/testing set % accuracy vs n_estimators')\n",
    "plt.ylabel('accuracy (%)')\n",
    "plt.xlabel('n_estimators')\n",
    "plt.show()"
   ]
  },
  {
   "cell_type": "markdown",
   "metadata": {},
   "source": [
    "The test set accuracy stops improving at around n_estimators=25. Above this, there is overfitting of the training set.<br>\n",
    "So when doing GridSearch cross-validation, it's not necessary to go as high as 200."
   ]
  },
  {
   "cell_type": "markdown",
   "metadata": {},
   "source": [
    "### learning rate"
   ]
  },
  {
   "cell_type": "code",
   "execution_count": 15,
   "metadata": {},
   "outputs": [
    {
     "name": "stdout",
     "output_type": "stream",
     "text": [
      ".........."
     ]
    }
   ],
   "source": [
    "## iterating through various learning rates to find the best one!\n",
    "\n",
    "learning_rate = [0.0001, 0.001, 0.01, 0.1, 0.2, 0.3, 0.4, 0.5, 0.75, 1]\n",
    "f1_scores_xgb={}\n",
    "acc_scores_xgb={}\n",
    "\n",
    "for lr in learning_rate:\n",
    "    model = XGBClassifier(n_estimators=25,seed=61097,learning_rate=lr)\n",
    "    model.fit(x_train_b,y_train_b)\n",
    "    y_test_pred=model.predict(x_test_b)\n",
    "    f1=f1_score(y_test_b,y_test_pred,pos_label='Relevant')\n",
    "    f1_scores_xgb[str(lr)]=f1\n",
    "    acc=accuracy_score(y_test_b,y_test_pred)\n",
    "    acc_scores_xgb[str(lr)]=acc\n",
    "    print('.',end='')"
   ]
  },
  {
   "cell_type": "code",
   "execution_count": 16,
   "metadata": {},
   "outputs": [
    {
     "data": {
      "image/png": "[encoded data removed]",
      "text/plain": [
       "<Figure size 432x288 with 1 Axes>"
      ]
     },
     "metadata": {
      "needs_background": "light"
     },
     "output_type": "display_data"
    }
   ],
   "source": [
    "plt.plot(acc_scores_xgb.keys(),acc_scores_xgb.values(),color='g',label='accuracy')\n",
    "plt.plot(f1_scores_xgb.keys(),f1_scores_xgb.values(),color='b',label='f1')\n",
    "plt.legend()\n",
    "plt.title('accuracy&f1 vs learning rate')\n",
    "plt.ylabel('accuracy&f1')\n",
    "plt.xlabel('learning rate')\n",
    "plt.show()"
   ]
  },
  {
   "cell_type": "code",
   "execution_count": 17,
   "metadata": {},
   "outputs": [
    {
     "name": "stdout",
     "output_type": "stream",
     "text": [
      "............."
     ]
    }
   ],
   "source": [
    "## testing parameter values around the optimal point\n",
    "\n",
    "learning_rate = [round(x,2) for x in NP.linspace(0.75,1,13)]\n",
    "f1_scores_xgb={}\n",
    "acc_scores_xgb={}\n",
    "\n",
    "for lr in learning_rate:\n",
    "    model = XGBClassifier(n_estimators=25,seed=61097,learning_rate=lr)\n",
    "    model.fit(x_train_b,y_train_b)\n",
    "    y_test_pred=model.predict(x_test_b)\n",
    "    f1=f1_score(y_test_b,y_test_pred,pos_label='Relevant')\n",
    "    f1_scores_xgb[str(lr)]=f1\n",
    "    acc=accuracy_score(y_test_b,y_test_pred)\n",
    "    acc_scores_xgb[str(lr)]=acc\n",
    "    print('.',end='')"
   ]
  },
  {
   "cell_type": "code",
   "execution_count": 18,
   "metadata": {},
   "outputs": [
    {
     "data": {
      "image/png": "[encoded data removed]",
      "text/plain": [
       "<Figure size 432x288 with 1 Axes>"
      ]
     },
     "metadata": {
      "needs_background": "light"
     },
     "output_type": "display_data"
    }
   ],
   "source": [
    "plt.plot(acc_scores_xgb.keys(),acc_scores_xgb.values(),color='g',label='accuracy')\n",
    "plt.plot(f1_scores_xgb.keys(),f1_scores_xgb.values(),color='b',label='f1')\n",
    "plt.legend()\n",
    "plt.xlabel('learning rate')\n",
    "plt.show()"
   ]
  },
  {
   "cell_type": "markdown",
   "metadata": {},
   "source": [
    "From the graph, optimal learning rate = 1"
   ]
  },
  {
   "cell_type": "markdown",
   "metadata": {},
   "source": [
    "### max depth"
   ]
  },
  {
   "cell_type": "code",
   "execution_count": 19,
   "metadata": {},
   "outputs": [
    {
     "name": "stdout",
     "output_type": "stream",
     "text": [
      "........."
     ]
    }
   ],
   "source": [
    "## iterating through various max_depth values to find the best\n",
    "\n",
    "depth = list(range(2,11))\n",
    "f1_xgb_depth={}\n",
    "acc_xgb_depth={}\n",
    "\n",
    "\n",
    "for d in depth:\n",
    "    model = XGBClassifier(n_estimators=25,seed=61097,learning_rate=1,max_depth=d)\n",
    "    model.fit(x_train_b,y_train_b)\n",
    "    y_test_pred=model.predict(x_test_b)\n",
    "    f1=f1_score(y_test_b,y_test_pred,pos_label='Relevant')\n",
    "    f1_xgb_depth[d]=f1\n",
    "    acc=accuracy_score(y_test_b,y_test_pred)\n",
    "    acc_xgb_depth[d]=acc\n",
    "    print('.',end='')"
   ]
  },
  {
   "cell_type": "code",
   "execution_count": 20,
   "metadata": {},
   "outputs": [
    {
     "data": {
      "image/png": "[encoded data removed]",
      "text/plain": [
       "<Figure size 432x288 with 1 Axes>"
      ]
     },
     "metadata": {
      "needs_background": "light"
     },
     "output_type": "display_data"
    }
   ],
   "source": [
    "plt.plot(acc_xgb_depth.keys(),acc_xgb_depth.values(),color='g',label='accuracy')\n",
    "plt.plot(f1_xgb_depth.keys(),f1_xgb_depth.values(),color='b',label='f1')\n",
    "plt.legend()\n",
    "plt.title('accuracy&f1 vs max_depth')\n",
    "plt.xlabel('max_depth')\n",
    "plt.ylabel('accuracy&f1')\n",
    "plt.show()"
   ]
  },
  {
   "cell_type": "markdown",
   "metadata": {},
   "source": [
    "optimal max_depth is 3"
   ]
  },
  {
   "cell_type": "markdown",
   "metadata": {},
   "source": [
    "### GridSearchCV for gamma, colsamples_bytree & regularisation (alpha & lambda)"
   ]
  },
  {
   "cell_type": "code",
   "execution_count": 21,
   "metadata": {},
   "outputs": [
    {
     "name": "stdout",
     "output_type": "stream",
     "text": [
      "0.9222614840989399\n",
      "0.8942307692307693\n"
     ]
    }
   ],
   "source": [
    "## current optimal classifier\n",
    "\n",
    "xgb_b = XGBClassifier(n_estimators=25,seed=61097,learning_rate=1,max_depth=3)\n",
    "xgb_b.fit(x_train_b,y_train_b)\n",
    "y_pred_=xgb_b.predict(x_test_b)\n",
    "\n",
    "print(accuracy_score(y_test_b,y_pred_))\n",
    "print(f1_score(y_test_b,y_pred_,pos_label='Relevant'))"
   ]
  },
  {
   "cell_type": "code",
   "execution_count": 22,
   "metadata": {},
   "outputs": [
    {
     "name": "stdout",
     "output_type": "stream",
     "text": [
      "Fitting 5 folds for each of 10 candidates, totalling 50 fits\n"
     ]
    },
    {
     "name": "stderr",
     "output_type": "stream",
     "text": [
      "[Parallel(n_jobs=1)]: Using backend SequentialBackend with 1 concurrent workers.\n"
     ]
    },
    {
     "name": "stdout",
     "output_type": "stream",
     "text": [
      "Best Score: 91.12\n",
      "Best Params: {'gamma': 0.2}\n"
     ]
    },
    {
     "name": "stderr",
     "output_type": "stream",
     "text": [
      "[Parallel(n_jobs=1)]: Done  50 out of  50 | elapsed:    4.5s finished\n"
     ]
    }
   ],
   "source": [
    "## gamma optimisation\n",
    "\n",
    "param_grid={'gamma':[x/10 for x in range(10)]}\n",
    "\n",
    "grid = GridSearchCV(estimator=xgb_b,\n",
    "                param_grid=param_grid,\n",
    "                verbose=1,\n",
    "                cv=5)\n",
    "grid_result = grid.fit(x_train_b,y_train_b)\n",
    "\n",
    "print('Best Score:', round(grid_result.best_score_*100,2))\n",
    "print('Best Params:', grid_result.best_params_)"
   ]
  },
  {
   "cell_type": "code",
   "execution_count": 23,
   "metadata": {},
   "outputs": [
    {
     "name": "stdout",
     "output_type": "stream",
     "text": [
      "0.911660777385159\n",
      "0.8792270531400966\n"
     ]
    }
   ],
   "source": [
    "xgb_gam=XGBClassifier(max_depth=3,learning_rate=1,\n",
    "                      n_estimators=25,random_state=61097\n",
    "                      ,gamma=0.2)\n",
    "xgb_gam.fit(x_train_b,y_train_b)\n",
    "\n",
    "y_pred_gam=xgb_gam.predict(x_test_b)\n",
    "print(accuracy_score(y_test_b,y_pred_gam))\n",
    "print(f1_score(y_test_b,y_pred_gam,pos_label='Relevant'))"
   ]
  },
  {
   "cell_type": "markdown",
   "metadata": {},
   "source": [
    "Tuned gamma worsens model so stick w default values<br><br><br><br><br>"
   ]
  },
  {
   "cell_type": "code",
   "execution_count": 24,
   "metadata": {},
   "outputs": [
    {
     "name": "stdout",
     "output_type": "stream",
     "text": [
      "Fitting 5 folds for each of 16 candidates, totalling 80 fits\n"
     ]
    },
    {
     "name": "stderr",
     "output_type": "stream",
     "text": [
      "[Parallel(n_jobs=1)]: Using backend SequentialBackend with 1 concurrent workers.\n"
     ]
    },
    {
     "name": "stdout",
     "output_type": "stream",
     "text": [
      "Best Score: 90.87\n",
      "Best Params: {'colsample_bytree': 0.7, 'subsample': 0.7}\n"
     ]
    },
    {
     "name": "stderr",
     "output_type": "stream",
     "text": [
      "[Parallel(n_jobs=1)]: Done  80 out of  80 | elapsed:    7.7s finished\n"
     ]
    }
   ],
   "source": [
    "## subsample & colsample_bytree optimisation\n",
    "\n",
    "param_grid = {'subsample':[x/10 for x in range(6,10)],\n",
    "              'colsample_bytree':[x/10.0 for x in range(6,10)]}\n",
    "\n",
    "grid = GridSearchCV(estimator=xgb_b,\n",
    "                param_grid=param_grid,\n",
    "                verbose=1,\n",
    "                cv=5)\n",
    "grid_result = grid.fit(x_train_b,y_train_b)\n",
    "\n",
    "print('Best Score:', round(grid_result.best_score_*100,2))\n",
    "print('Best Params:', grid_result.best_params_)"
   ]
  },
  {
   "cell_type": "code",
   "execution_count": 25,
   "metadata": {},
   "outputs": [
    {
     "name": "stdout",
     "output_type": "stream",
     "text": [
      "0.8939929328621908\n",
      "0.8514851485148516\n"
     ]
    }
   ],
   "source": [
    "## f1 score for optimised colsample_bytree and subsample\n",
    "\n",
    "xgb_csbt_ss=XGBClassifier(n_estimators=25, seed=61097, max_depth=3,\n",
    "                          learning_rate=1, colsample_bytree=0.7,\n",
    "                          subsample=0.7)\n",
    "xgb_csbt_ss.fit(x_train_b,y_train_b)\n",
    "y_pred_cs = xgb_csbt_ss.predict(x_test_b)\n",
    "\n",
    "\n",
    "print(accuracy_score(y_test_b,y_pred_cs))\n",
    "print(f1_score(y_test_b,y_pred_cs,pos_label='Relevant'))"
   ]
  },
  {
   "cell_type": "markdown",
   "metadata": {},
   "source": [
    "Tuning these hyperparameters makes the model worse!<br><br><br><br>"
   ]
  },
  {
   "cell_type": "code",
   "execution_count": 26,
   "metadata": {},
   "outputs": [
    {
     "name": "stderr",
     "output_type": "stream",
     "text": [
      "[Parallel(n_jobs=1)]: Using backend SequentialBackend with 1 concurrent workers.\n"
     ]
    },
    {
     "name": "stdout",
     "output_type": "stream",
     "text": [
      "Fitting 5 folds for each of 25 candidates, totalling 125 fits\n",
      "Best Score: 91.87\n",
      "Best Params: {'reg_alpha': 0.1, 'reg_lambda': 10}\n"
     ]
    },
    {
     "name": "stderr",
     "output_type": "stream",
     "text": [
      "[Parallel(n_jobs=1)]: Done 125 out of 125 | elapsed:    8.6s finished\n"
     ]
    }
   ],
   "source": [
    "## regularisation term (alpha&lambda) tuning\n",
    "\n",
    "alphas = [10**x for x in range(-2,3)]\n",
    "lambdas = [10**x for x in range(-2,3)]\n",
    "param_grid_al={'reg_alpha':alphas,'reg_lambda':lambdas}\n",
    "\n",
    "grid = GridSearchCV(estimator=xgb_b,\n",
    "                param_grid=param_grid_al,\n",
    "                verbose=1,\n",
    "                cv=5)\n",
    "grid_result = grid.fit(x_train_b,y_train_b)\n",
    "\n",
    "print('Best Score:', round(grid_result.best_score_*100,2))\n",
    "print('Best Params:', grid_result.best_params_)"
   ]
  },
  {
   "cell_type": "code",
   "execution_count": 27,
   "metadata": {},
   "outputs": [
    {
     "name": "stdout",
     "output_type": "stream",
     "text": [
      "0.911660777385159\n",
      "0.8780487804878048\n"
     ]
    }
   ],
   "source": [
    "## add optimal alpha and lambda values to the model\n",
    "\n",
    "xgb_b_al=XGBClassifier(n_estimators=25,seed=61097,max_depth=3,learning_rate=1,\n",
    "                       reg_alpha=0.01,reg_lambda=10)\n",
    "xgb_b_al.fit(x_train_b,y_train_b)\n",
    "y_pred_b_al=xgb_b_al.predict(x_test_b)\n",
    "\n",
    "\n",
    "print(accuracy_score(y_test_b,y_pred_b_al))\n",
    "print(f1_score(y_test_b,y_pred_b_al,pos_label='Relevant'))"
   ]
  },
  {
   "cell_type": "markdown",
   "metadata": {},
   "source": [
    "Tuning of alpha and lambda actually makes the model worse so let's stick with the default values."
   ]
  },
  {
   "cell_type": "markdown",
   "metadata": {},
   "source": [
    "### xgb_b tuning conclusion"
   ]
  },
  {
   "cell_type": "code",
   "execution_count": 28,
   "metadata": {},
   "outputs": [
    {
     "name": "stdout",
     "output_type": "stream",
     "text": [
      "Before hyperparameter tuning...\n",
      "Accuracy=0.901060070671378     f1=0.8627450980392157\n"
     ]
    }
   ],
   "source": [
    "print('Before hyperparameter tuning...')\n",
    "print(f'Accuracy={original_acc}     f1={original_f1}')"
   ]
  },
  {
   "cell_type": "code",
   "execution_count": 29,
   "metadata": {},
   "outputs": [
    {
     "name": "stdout",
     "output_type": "stream",
     "text": [
      "After hyperparameter tuning...\n",
      "Accuracy=0.9222614840989399     f1=0.8942307692307693\n"
     ]
    }
   ],
   "source": [
    "optimal_xgb_b=XGBClassifier(n_estimators=25,seed=61097,\n",
    "                            max_depth=3,learning_rate=1).fit(x_train_b,y_train_b)\n",
    "y_proptimal=optimal_xgb_b.predict(x_test_b)\n",
    "optimal_acc=accuracy_score(y_test_b,y_proptimal)\n",
    "optimal_f1=f1_score(y_test_b,y_proptimal,pos_label='Relevant')\n",
    "\n",
    "print('After hyperparameter tuning...')\n",
    "print(f'Accuracy={optimal_acc}     f1={optimal_f1}')"
   ]
  },
  {
   "cell_type": "code",
   "execution_count": 30,
   "metadata": {},
   "outputs": [
    {
     "name": "stdout",
     "output_type": "stream",
     "text": [
      "              precision    recall  f1-score   support\n",
      "\n",
      "Not relevant       0.94      0.93      0.94       180\n",
      "    Relevant       0.89      0.90      0.89       103\n",
      "\n",
      "   micro avg       0.92      0.92      0.92       283\n",
      "   macro avg       0.91      0.92      0.92       283\n",
      "weighted avg       0.92      0.92      0.92       283\n",
      "\n"
     ]
    }
   ],
   "source": [
    "print(classification_report(y_test_b,y_proptimal))"
   ]
  },
  {
   "cell_type": "markdown",
   "metadata": {},
   "source": [
    "So hyperparameter tuning has improved the model's accuracy by around 2 percentage points and its f1 score by 3 points."
   ]
  },
  {
   "cell_type": "code",
   "execution_count": 31,
   "metadata": {},
   "outputs": [
    {
     "name": "stdout",
     "output_type": "stream",
     "text": [
      "base_score = 0.5\n",
      "booster = gbtree\n",
      "colsample_bylevel = 1\n",
      "colsample_bytree = 1\n",
      "gamma = 0\n",
      "learning_rate = 1\n",
      "max_delta_step = 0\n",
      "max_depth = 3\n",
      "min_child_weight = 1\n",
      "missing = None\n",
      "n_estimators = 25\n",
      "nthread = 1\n",
      "objective = binary:logistic\n",
      "reg_alpha = 0\n",
      "reg_lambda = 1\n",
      "scale_pos_weight = 1\n",
      "seed = 61097\n",
      "silent = 1\n",
      "subsample = 1\n"
     ]
    }
   ],
   "source": [
    "## save optimal classifier\n",
    "\n",
    "for x,y in optimal_xgb_b.get_xgb_params().items():\n",
    "    print(f'{x} = {y}')\n",
    "\n",
    "top_3={}\n",
    "top_3['XGB_b']=(optimal_acc,optimal_f1)"
   ]
  },
  {
   "cell_type": "markdown",
   "metadata": {},
   "source": [
    "<br><br><br><br><br><br><br><br><br><br>"
   ]
  },
  {
   "cell_type": "markdown",
   "metadata": {},
   "source": [
    "# hyperparameter tuning: xgboost tfidf"
   ]
  },
  {
   "cell_type": "code",
   "execution_count": 32,
   "metadata": {},
   "outputs": [
    {
     "name": "stdout",
     "output_type": "stream",
     "text": [
      "Before hyperparameter tuning...\n",
      "accuracy=0.9258      f1=0.89756\n"
     ]
    }
   ],
   "source": [
    "original_xgbt=XGBClassifier().fit(x_train_t,y_train_t)\n",
    "y_original_p=original_xgbt.predict(x_test_t)\n",
    "xgbt_org_acc=accuracy_score(y_test_t,y_original_p)\n",
    "xgbt_org_f1=f1_score(y_test_t,y_original_p,pos_label='Relevant')\n",
    "\n",
    "print('Before hyperparameter tuning...')\n",
    "print('accuracy={}      f1={}'.format(round(xgbt_org_acc,5),round(xgbt_org_f1,5)))"
   ]
  },
  {
   "cell_type": "markdown",
   "metadata": {},
   "source": [
    "### n_estimators optimisation"
   ]
  },
  {
   "cell_type": "code",
   "execution_count": 33,
   "metadata": {},
   "outputs": [],
   "source": [
    "xgb_t=XGBClassifier(seed=61097,n_estimators=200)"
   ]
  },
  {
   "cell_type": "code",
   "execution_count": 34,
   "metadata": {},
   "outputs": [],
   "source": [
    "xgb_t.fit(x_train_t,y_train_t,eval_set=[(x_train_t,y_train_t),(x_test_t,y_test_t)],\n",
    "           eval_metric='error',verbose=False)\n",
    "\n",
    "xgb_t_eval=xgb_t.evals_result()\n",
    "n_estimators=range(len(xgb_t_eval['validation_0']['error']))"
   ]
  },
  {
   "cell_type": "code",
   "execution_count": 35,
   "metadata": {},
   "outputs": [
    {
     "data": {
      "image/png": "[encoded data removed]",
      "text/plain": [
       "<Figure size 432x288 with 1 Axes>"
      ]
     },
     "metadata": {
      "needs_background": "light"
     },
     "output_type": "display_data"
    }
   ],
   "source": [
    "plt.plot(n_estimators,[1-n for n in xgb_t_eval['validation_0']['error']],color='g',label='train')\n",
    "plt.plot(n_estimators,[1-n for n in xgb_t_eval['validation_1']['error']],color='b',label='test')\n",
    "plt.legend()\n",
    "plt.ylabel('accuracy (%)')\n",
    "plt.xlabel('n_estimators')\n",
    "plt.show()"
   ]
  },
  {
   "cell_type": "markdown",
   "metadata": {},
   "source": [
    "The test set accuracy stops increasing at n_estimators=80. From then on there is overfitting to the training set."
   ]
  },
  {
   "cell_type": "markdown",
   "metadata": {},
   "source": [
    "### learning_rate"
   ]
  },
  {
   "cell_type": "code",
   "execution_count": 36,
   "metadata": {},
   "outputs": [
    {
     "name": "stdout",
     "output_type": "stream",
     "text": [
      ".........."
     ]
    }
   ],
   "source": [
    "learning_rate = [0.0001, 0.001, 0.01, 0.1, 0.2, 0.3, 0.4, 0.5, 0.75, 1]\n",
    "f1_lr_t={}\n",
    "acc_lr_t={}\n",
    "\n",
    "for lr in learning_rate:\n",
    "    model = XGBClassifier(n_estimators=80,seed=61097,learning_rate=lr)\n",
    "    model.fit(x_train_t,y_train_t)\n",
    "    y_test_pred=model.predict(x_test_t)\n",
    "    f1=f1_score(y_test_t,y_test_pred,pos_label='Relevant')\n",
    "    f1_lr_t[str(lr)]=f1\n",
    "    acc=accuracy_score(y_test_t,y_test_pred)\n",
    "    acc_lr_t[str(lr)]=acc\n",
    "    print('.',end='')"
   ]
  },
  {
   "cell_type": "code",
   "execution_count": 37,
   "metadata": {},
   "outputs": [
    {
     "data": {
      "image/png": "[encoded data removed]",
      "text/plain": [
       "<Figure size 432x288 with 1 Axes>"
      ]
     },
     "metadata": {
      "needs_background": "light"
     },
     "output_type": "display_data"
    }
   ],
   "source": [
    "plt.plot(acc_lr_t.keys(),acc_lr_t.values(),color='g',label='accuracy')\n",
    "plt.plot(f1_lr_t.keys(),f1_lr_t.values(),color='b',label='f1')\n",
    "plt.legend()\n",
    "plt.title('accuracy&f1 vs learning_rate')\n",
    "plt.ylabel('accuracy&f1')\n",
    "plt.xlabel('learning_rate')\n",
    "plt.show()"
   ]
  },
  {
   "cell_type": "code",
   "execution_count": 38,
   "metadata": {},
   "outputs": [
    {
     "name": "stdout",
     "output_type": "stream",
     "text": [
      "....................."
     ]
    }
   ],
   "source": [
    "## now we test parameter values around the point learning_rate=0.3\n",
    "\n",
    "learning_rate = [round(x,2) for x in NP.linspace(0.24,0.34,21)]\n",
    "\n",
    "f1_lr_t={}\n",
    "acc_lr_t={}\n",
    "\n",
    "for lr in learning_rate:\n",
    "    model = XGBClassifier(n_estimators=80,seed=61097,learning_rate=lr)\n",
    "    model.fit(x_train_t,y_train_t)\n",
    "    y_test_pred=model.predict(x_test_t)\n",
    "    f1=f1_score(y_test_t,y_test_pred,pos_label='Relevant')\n",
    "    f1_lr_t[str(lr)]=f1\n",
    "    acc=accuracy_score(y_test_t,y_test_pred)\n",
    "    acc_lr_t[str(lr)]=acc\n",
    "    print('.',end='')"
   ]
  },
  {
   "cell_type": "code",
   "execution_count": 39,
   "metadata": {},
   "outputs": [
    {
     "data": {
      "image/png": "[encoded data removed]",
      "text/plain": [
       "<Figure size 432x288 with 1 Axes>"
      ]
     },
     "metadata": {
      "needs_background": "light"
     },
     "output_type": "display_data"
    }
   ],
   "source": [
    "plt.plot(acc_lr_t.keys(),acc_lr_t.values(),color='g',label='accuracy')\n",
    "plt.plot(f1_lr_t.keys(),f1_lr_t.values(),color='b',label='f1')\n",
    "plt.legend()\n",
    "plt.title('accuracy&f1 vs learning_rate')\n",
    "plt.ylabel('accuracy&f1')\n",
    "plt.xlabel('learning_rate')\n",
    "plt.show()"
   ]
  },
  {
   "cell_type": "markdown",
   "metadata": {},
   "source": [
    "So our learning_rate value will be <b>0.32</b>"
   ]
  },
  {
   "cell_type": "code",
   "execution_count": 40,
   "metadata": {},
   "outputs": [
    {
     "data": {
      "text/plain": [
       "XGBClassifier(base_score=0.5, booster='gbtree', colsample_bylevel=1,\n",
       "       colsample_bytree=1, gamma=0, learning_rate=0.32, max_delta_step=0,\n",
       "       max_depth=3, min_child_weight=1, missing=None, n_estimators=80,\n",
       "       n_jobs=1, nthread=None, objective='binary:logistic', random_state=0,\n",
       "       reg_alpha=0, reg_lambda=1, scale_pos_weight=1, seed=61097,\n",
       "       silent=True, subsample=1)"
      ]
     },
     "execution_count": 40,
     "metadata": {},
     "output_type": "execute_result"
    }
   ],
   "source": [
    "learn={'learning_rate':0.32,'n_estimators':80}\n",
    "xgb_t.set_params(**learn)"
   ]
  },
  {
   "cell_type": "markdown",
   "metadata": {},
   "source": [
    "### max_depth optimisation"
   ]
  },
  {
   "cell_type": "code",
   "execution_count": 41,
   "metadata": {},
   "outputs": [
    {
     "name": "stdout",
     "output_type": "stream",
     "text": [
      "2 3 4 5 6 7 8 9 10 "
     ]
    }
   ],
   "source": [
    "depth = list(range(2,11))\n",
    "f1_depth_t={}\n",
    "acc_depth_t={}\n",
    "\n",
    "for d in depth:\n",
    "    model = XGBClassifier(n_estimators=80,seed=61097,learning_rate=0.32,max_depth=d)\n",
    "    model.fit(x_train_t,y_train_t)\n",
    "    y_test_pred=model.predict(x_test_t)\n",
    "    f1=f1_score(y_test_t,y_test_pred,pos_label='Relevant')\n",
    "    f1_depth_t[d]=f1\n",
    "    acc=accuracy_score(y_test_t,y_test_pred)\n",
    "    acc_depth_t[d]=acc\n",
    "    print('{} '.format(d),end='')"
   ]
  },
  {
   "cell_type": "code",
   "execution_count": 42,
   "metadata": {},
   "outputs": [
    {
     "data": {
      "image/png": "[encoded data removed]",
      "text/plain": [
       "<Figure size 432x288 with 1 Axes>"
      ]
     },
     "metadata": {
      "needs_background": "light"
     },
     "output_type": "display_data"
    }
   ],
   "source": [
    "plt.plot(acc_depth_t.keys(),acc_depth_t.values(),color='g',label='accuracy')\n",
    "plt.plot(f1_depth_t.keys(),f1_depth_t.values(),color='b',label='f1')\n",
    "plt.legend()\n",
    "plt.title('accuracy&f1 vs max_depth')\n",
    "plt.ylabel('accuracy&f1')\n",
    "plt.xlabel('max_depth')\n",
    "plt.show()"
   ]
  },
  {
   "cell_type": "markdown",
   "metadata": {},
   "source": [
    "From the graph, optimal max_depth = 3"
   ]
  },
  {
   "cell_type": "markdown",
   "metadata": {},
   "source": [
    "### gamma"
   ]
  },
  {
   "cell_type": "code",
   "execution_count": 43,
   "metadata": {},
   "outputs": [],
   "source": [
    "## current optimal classifier\n",
    "\n",
    "xgb_t = XGBClassifier(n_estimators=80,seed=61097,\n",
    "                      learning_rate=0.32,\n",
    "                      max_depth=3)\n",
    "xgb_t.fit(x_train_t,y_train_t)\n",
    "y_t2_pred=xgb_t.predict(x_test_t)"
   ]
  },
  {
   "cell_type": "code",
   "execution_count": 44,
   "metadata": {},
   "outputs": [
    {
     "name": "stdout",
     "output_type": "stream",
     "text": [
      "0.9399293286219081\n",
      "0.9170731707317074\n"
     ]
    }
   ],
   "source": [
    "print(accuracy_score(y_test_t,y_t2_pred))\n",
    "print(f1_score(y_test_t,y_t2_pred,pos_label='Relevant'))"
   ]
  },
  {
   "cell_type": "code",
   "execution_count": 45,
   "metadata": {},
   "outputs": [
    {
     "name": "stdout",
     "output_type": "stream",
     "text": [
      "Fitting 5 folds for each of 5 candidates, totalling 25 fits\n"
     ]
    },
    {
     "name": "stderr",
     "output_type": "stream",
     "text": [
      "[Parallel(n_jobs=1)]: Using backend SequentialBackend with 1 concurrent workers.\n",
      "[Parallel(n_jobs=1)]: Done  25 out of  25 | elapsed:    9.1s finished\n"
     ]
    },
    {
     "name": "stdout",
     "output_type": "stream",
     "text": [
      "Best Score: 92.12\n",
      "Best Params: {'gamma': 0.1}\n"
     ]
    }
   ],
   "source": [
    "param_grid={'gamma':[x/10 for x in range(5)]}\n",
    "\n",
    "grid = GridSearchCV(estimator=xgb_t,\n",
    "                param_grid=param_grid,\n",
    "                verbose=1,\n",
    "                cv=5)\n",
    "grid_result = grid.fit(x_train_t,y_train_t)\n",
    "\n",
    "print('Best Score:', round(grid_result.best_score_*100,2))\n",
    "print('Best Params:', grid_result.best_params_)"
   ]
  },
  {
   "cell_type": "code",
   "execution_count": 46,
   "metadata": {},
   "outputs": [
    {
     "name": "stdout",
     "output_type": "stream",
     "text": [
      "acc\n",
      "0.9469964664310954\n",
      "\n",
      "f1\n",
      "0.9268292682926829\n"
     ]
    }
   ],
   "source": [
    "xgb_gam = XGBClassifier(n_estimators=80,seed=61097,\n",
    "                       learning_rate=0.32,\n",
    "                       max_depth=3,\n",
    "                       gamma=0.1).fit(x_train_t,y_train_t)\n",
    "y_gampred=xgb_gam.predict(x_test_t)\n",
    "\n",
    "print('acc')\n",
    "print(accuracy_score(y_test_t,y_gampred))\n",
    "print('\\nf1')\n",
    "print(f1_score(y_test_t,y_gampred,pos_label='Relevant'))"
   ]
  },
  {
   "cell_type": "markdown",
   "metadata": {},
   "source": [
    "This gamma value improves our acc and f1!! so we keep it"
   ]
  },
  {
   "cell_type": "code",
   "execution_count": 47,
   "metadata": {},
   "outputs": [
    {
     "data": {
      "text/plain": [
       "XGBClassifier(base_score=0.5, booster='gbtree', colsample_bylevel=1,\n",
       "       colsample_bytree=1, gamma=0.1, learning_rate=0.32, max_delta_step=0,\n",
       "       max_depth=3, min_child_weight=1, missing=None, n_estimators=80,\n",
       "       n_jobs=1, nthread=None, objective='binary:logistic', random_state=0,\n",
       "       reg_alpha=0, reg_lambda=1, scale_pos_weight=1, seed=61097,\n",
       "       silent=True, subsample=1)"
      ]
     },
     "execution_count": 47,
     "metadata": {},
     "output_type": "execute_result"
    }
   ],
   "source": [
    "xgb_t.set_params(**{'gamma':0.1})"
   ]
  },
  {
   "cell_type": "markdown",
   "metadata": {},
   "source": [
    "<br><br><br><br>"
   ]
  },
  {
   "cell_type": "markdown",
   "metadata": {},
   "source": [
    "### subsample & colsample_bytree"
   ]
  },
  {
   "cell_type": "code",
   "execution_count": 48,
   "metadata": {
    "scrolled": true
   },
   "outputs": [
    {
     "name": "stdout",
     "output_type": "stream",
     "text": [
      "Fitting 5 folds for each of 16 candidates, totalling 80 fits\n"
     ]
    },
    {
     "name": "stderr",
     "output_type": "stream",
     "text": [
      "[Parallel(n_jobs=1)]: Using backend SequentialBackend with 1 concurrent workers.\n",
      "[Parallel(n_jobs=1)]: Done  80 out of  80 | elapsed:   32.7s finished\n"
     ]
    },
    {
     "name": "stdout",
     "output_type": "stream",
     "text": [
      "Best Score: 92.06\n",
      "Best Params: {'colsample_bytree': 0.6, 'subsample': 0.9}\n"
     ]
    }
   ],
   "source": [
    "## subsample & colsample_bytree optimisation\n",
    "\n",
    "param_grid = {'subsample':[x/10 for x in range(6,10)],\n",
    "              'colsample_bytree':[x/10.0 for x in range(6,10)]}\n",
    "\n",
    "grid = GridSearchCV(estimator=xgb_t,\n",
    "                param_grid=param_grid,\n",
    "                verbose=1,\n",
    "                cv=5)\n",
    "grid_result = grid.fit(x_train_t,y_train_t)\n",
    "\n",
    "print('Best Score:', round(grid_result.best_score_*100,2))\n",
    "print('Best Params:', grid_result.best_params_)"
   ]
  },
  {
   "cell_type": "code",
   "execution_count": 49,
   "metadata": {},
   "outputs": [
    {
     "name": "stdout",
     "output_type": "stream",
     "text": [
      "0.9328621908127208\n",
      "0.9073170731707318\n"
     ]
    }
   ],
   "source": [
    "xgb_ss = XGBClassifier(n_estimators=80,seed=61097,\n",
    "                       learning_rate=0.32,max_depth=3,\n",
    "                       gamma=0.1,\n",
    "                       colsample_bytree=0.6,\n",
    "                       subsample=0.9)\n",
    "xgb_ss.fit(x_train_t,y_train_t)\n",
    "y_ss_pred=xgb_ss.predict(x_test_t)\n",
    "\n",
    "print(accuracy_score(y_test_t,y_ss_pred))\n",
    "print(f1_score(y_test_t,y_ss_pred,pos_label='Relevant'))"
   ]
  },
  {
   "cell_type": "markdown",
   "metadata": {},
   "source": [
    "The f1 scores for the optimised colsample_bytree and subsample parameters is lower than the f1 score when these parameters have their default value...<br>\n",
    "This is also the case when using just one of these parameters and not the other.<br>\n",
    "Thus they do not require tuning!<br><br><br><br>"
   ]
  },
  {
   "cell_type": "code",
   "execution_count": 50,
   "metadata": {},
   "outputs": [
    {
     "name": "stdout",
     "output_type": "stream",
     "text": [
      "Fitting 5 folds for each of 25 candidates, totalling 125 fits\n"
     ]
    },
    {
     "name": "stderr",
     "output_type": "stream",
     "text": [
      "[Parallel(n_jobs=1)]: Using backend SequentialBackend with 1 concurrent workers.\n",
      "[Parallel(n_jobs=1)]: Done 125 out of 125 | elapsed:   42.1s finished\n"
     ]
    },
    {
     "name": "stdout",
     "output_type": "stream",
     "text": [
      "Best Score: 92.06\n",
      "Best Params: {'reg_alpha': 1, 'reg_lambda': 10}\n"
     ]
    }
   ],
   "source": [
    "## optimising regularisation hyperparameters: alpha & lambda\n",
    "\n",
    "alphas = [10**x for x in range(-2,3)]\n",
    "lambdas = [10**x for x in range(-2,3)]\n",
    "param_grid_alph={'reg_alpha':alphas,'reg_lambda':lambdas}\n",
    "\n",
    "grid = GridSearchCV(estimator=xgb_t,\n",
    "                param_grid=param_grid_alph,\n",
    "                verbose=1,\n",
    "                cv=5)\n",
    "grid_result = grid.fit(x_train_t,y_train_t)\n",
    "\n",
    "print('Best Score:', round(grid_result.best_score_*100,2))\n",
    "print('Best Params:', grid_result.best_params_)"
   ]
  },
  {
   "cell_type": "code",
   "execution_count": 51,
   "metadata": {},
   "outputs": [
    {
     "name": "stdout",
     "output_type": "stream",
     "text": [
      "0.9257950530035336\n",
      "0.8975609756097561\n"
     ]
    }
   ],
   "source": [
    "##add optimal alpha and lambda values to the model\n",
    "\n",
    "xgb_al2=XGBClassifier(n_estimators=80, seed=61097,\n",
    "                     max_depth=3, learning_rate=0.32,\n",
    "                     gamma=0.1).set_params(**grid_result.best_params_)\n",
    "xgb_al2.fit(x_train_t,y_train_t)\n",
    "y_pred_al2=xgb_al2.predict(x_test_t)\n",
    "\n",
    "\n",
    "print(accuracy_score(y_test_t,y_pred_al2))\n",
    "print(f1_score(y_test_t,y_pred_al2,pos_label='Relevant'))"
   ]
  },
  {
   "cell_type": "markdown",
   "metadata": {},
   "source": [
    "Tuning these parameters makes the model worse so leave at default values<br><br><br><br>"
   ]
  },
  {
   "cell_type": "markdown",
   "metadata": {},
   "source": [
    "### xgb_t conclusion"
   ]
  },
  {
   "cell_type": "code",
   "execution_count": 52,
   "metadata": {},
   "outputs": [
    {
     "name": "stdout",
     "output_type": "stream",
     "text": [
      "Before hyperparameter tuning...\n",
      "accuracy=0.9258      f1=0.89756\n"
     ]
    }
   ],
   "source": [
    "print('Before hyperparameter tuning...')\n",
    "print('accuracy={}      f1={}'.format(round(xgbt_org_acc,5),round(xgbt_org_f1,5)))"
   ]
  },
  {
   "cell_type": "code",
   "execution_count": 53,
   "metadata": {},
   "outputs": [
    {
     "name": "stdout",
     "output_type": "stream",
     "text": [
      "After hyperparameter tuning...\n",
      "accuracy=0.947      f1=0.92683\n"
     ]
    }
   ],
   "source": [
    "optimal_xgbt=XGBClassifier(n_estimators=80,max_depth=3,\n",
    "                           seed=61097,learning_rate=0.32,\n",
    "                           gamma=0.1)\n",
    "optimal_xgbt.fit(x_train_t,y_train_t)\n",
    "y_optimal_p=optimal_xgbt.predict(x_test_t)\n",
    "xgbt_opt_acc=accuracy_score(y_test_t,y_optimal_p)\n",
    "xgbt_opt_f1=f1_score(y_test_t,y_optimal_p,pos_label='Relevant')\n",
    "\n",
    "print('After hyperparameter tuning...')\n",
    "print('accuracy={}      f1={}'.format(round(xgbt_opt_acc,5),round(xgbt_opt_f1,5)))"
   ]
  },
  {
   "cell_type": "code",
   "execution_count": 54,
   "metadata": {},
   "outputs": [
    {
     "name": "stdout",
     "output_type": "stream",
     "text": [
      "              precision    recall  f1-score   support\n",
      "\n",
      "Not relevant       0.96      0.96      0.96       180\n",
      "    Relevant       0.93      0.92      0.93       103\n",
      "\n",
      "   micro avg       0.95      0.95      0.95       283\n",
      "   macro avg       0.94      0.94      0.94       283\n",
      "weighted avg       0.95      0.95      0.95       283\n",
      "\n"
     ]
    }
   ],
   "source": [
    "print(classification_report(y_test_t,y_optimal_p))"
   ]
  },
  {
   "cell_type": "markdown",
   "metadata": {},
   "source": [
    "So hyperparameter tuning has improved the model's accuracy by 1.4 percentage points and f1 by 2 points"
   ]
  },
  {
   "cell_type": "code",
   "execution_count": 55,
   "metadata": {},
   "outputs": [],
   "source": [
    "top_3['XGB_t']=(xgbt_opt_acc,xgbt_opt_f1)"
   ]
  },
  {
   "cell_type": "markdown",
   "metadata": {},
   "source": [
    "# evaluation of tuned classifiers"
   ]
  },
  {
   "cell_type": "code",
   "execution_count": 56,
   "metadata": {},
   "outputs": [
    {
     "name": "stdout",
     "output_type": "stream",
     "text": [
      "XGB_b\n",
      "(0.9222614840989399, 0.8942307692307693)\n",
      "\n",
      "XGB_t\n",
      "(0.9469964664310954, 0.9268292682926829)\n",
      "\n"
     ]
    }
   ],
   "source": [
    "for x,y in top_3.items():\n",
    "    print(x)\n",
    "    print(y)\n",
    "    print()"
   ]
  },
  {
   "cell_type": "markdown",
   "metadata": {},
   "source": [
    "The best classifier according to accuracy and f1 metrics is <b>XGBOOST TFIDF</b>"
   ]
  },
  {
   "cell_type": "code",
   "execution_count": 57,
   "metadata": {},
   "outputs": [],
   "source": [
    "pickle.dump(optimal_xgb_b,open('optimal_xgb_bow','wb'))"
   ]
  },
  {
   "cell_type": "code",
   "execution_count": 58,
   "metadata": {},
   "outputs": [],
   "source": [
    "pickle.dump(optimal_xgbt,open('optimal_xgb_tfidf','wb'))"
   ]
  },
  {
   "cell_type": "markdown",
   "metadata": {},
   "source": []
  }
 ],
 "metadata": {
  "kernelspec": {
   "display_name": "Python 3",
   "language": "python",
   "name": "python3"
  },
  "language_info": {
   "codemirror_mode": {
    "name": "ipython",
    "version": 3
   },
   "file_extension": ".py",
   "mimetype": "text/x-python",
   "name": "python",
   "nbconvert_exporter": "python",
   "pygments_lexer": "ipython3",
   "version": "3.7.0"
  }
 },
 "nbformat": 4,
 "nbformat_minor": 2
}
