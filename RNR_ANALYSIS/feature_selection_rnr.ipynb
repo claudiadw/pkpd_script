{
 "cells": [
  {
   "cell_type": "code",
   "execution_count": 1,
   "metadata": {},
   "outputs": [],
   "source": [
    "import pickle\n",
    "import matplotlib.pyplot as plt\n",
    "import numpy as np\n",
    "import pandas as pd\n",
    "from sklearn.model_selection import train_test_split\n",
    "from sklearn.metrics import accuracy_score, f1_score, classification_report\n",
    "from sklearn.feature_selection import SelectFromModel\n",
    "from xgboost import XGBClassifier, plot_importance\n",
    "import preprof               ## my functions!"
   ]
  },
  {
   "cell_type": "markdown",
   "metadata": {},
   "source": [
    "# BOW XGB\n",
    "## imports & setup"
   ]
  },
  {
   "cell_type": "code",
   "execution_count": 12,
   "metadata": {},
   "outputs": [],
   "source": [
    "bow_matrix=pickle.load(open('bow_matrix', 'rb'))\n",
    "\n",
    "csv = '/Users/cdw/Desktop/pkpd_script/RNR_ANALYSIS/ready_processed.csv'\n",
    "papers=pd.read_csv(csv)\n",
    "y = papers.loc[:,'category']\n",
    "\n",
    "bow_nofeats=pickle.load(open('bow_nofeats','rb'))\n",
    "bow_nofeats=pd.DataFrame(bow_nofeats.toarray())\n",
    "\n",
    "x_train,x_test,y_train,y_test=train_test_split(bow_nofeats,y,test_size=0.15,random_state=61097,stratify=y)"
   ]
  },
  {
   "cell_type": "code",
   "execution_count": null,
   "metadata": {},
   "outputs": [],
   "source": []
  },
  {
   "cell_type": "code",
   "execution_count": 4,
   "metadata": {},
   "outputs": [
    {
     "name": "stdout",
     "output_type": "stream",
     "text": [
      "TRAINING\n",
      " Not relevant    63.789869\n",
      "Relevant        36.210131\n",
      "Name: category, dtype: float64\n",
      "\n",
      "TESTING\n",
      " Not relevant    63.60424\n",
      "Relevant        36.39576\n",
      "Name: category, dtype: float64\n"
     ]
    }
   ],
   "source": [
    "preprof.print_proportions(y_train,y_test)"
   ]
  },
  {
   "cell_type": "code",
   "execution_count": 6,
   "metadata": {},
   "outputs": [],
   "source": [
    "model=XGBClassifier().fit(x_train,y_train)"
   ]
  },
  {
   "cell_type": "markdown",
   "metadata": {},
   "source": [
    "## feature importance plotting & identification"
   ]
  },
  {
   "cell_type": "code",
   "execution_count": null,
   "metadata": {},
   "outputs": [],
   "source": [
    "ax = plot_importance(model)\n",
    "fig = ax.figure\n",
    "#plt.savefig('bow_featimp.png')"
   ]
  },
  {
   "cell_type": "code",
   "execution_count": null,
   "metadata": {},
   "outputs": [],
   "source": [
    "## nparray of numerical importances, with dropped weird column\n",
    "feat_importance=np.array(list(model.feature_importances_[0:48])+list(model.feature_importances_[49:]))\n",
    "\n",
    "## list of feature names in order\n",
    "feature_names=list(bow_matrix)"
   ]
  },
  {
   "cell_type": "code",
   "execution_count": null,
   "metadata": {},
   "outputs": [],
   "source": [
    "##returns index values for the num_feats highest values\n",
    "\n",
    "def max_ind(array,num_feats):\n",
    "    return list(array.argsort()[-num_feats:][::-1])"
   ]
  },
  {
   "cell_type": "code",
   "execution_count": null,
   "metadata": {},
   "outputs": [],
   "source": [
    "## prints top n features\n",
    "def top_n_feats(feature_names,feat_importance,n):\n",
    "    top = []\n",
    "    for x in max_ind(feat_importance,n):\n",
    "        top.append(feature_names[x])\n",
    "    return top"
   ]
  },
  {
   "cell_type": "code",
   "execution_count": null,
   "metadata": {},
   "outputs": [],
   "source": [
    "topfeats=top_n_feats(feature_names,feat_importance,20)\n",
    "for x in topfeats:\n",
    "    print(x)"
   ]
  },
  {
   "cell_type": "code",
   "execution_count": null,
   "metadata": {},
   "outputs": [],
   "source": [
    "data=pd.Series(feat_importance, index=feature_names).nlargest(20)\n",
    "fig=data.plot(kind='barh',figsize=(10,8))\n",
    "fig.figure.savefig('top28_bow.png')"
   ]
  },
  {
   "cell_type": "markdown",
   "metadata": {},
   "source": [
    "## feature selection"
   ]
  },
  {
   "cell_type": "code",
   "execution_count": null,
   "metadata": {},
   "outputs": [],
   "source": [
    "thresholds = sorted(list(np.unique(model.feature_importances_)))"
   ]
  },
  {
   "cell_type": "code",
   "execution_count": 14,
   "metadata": {},
   "outputs": [
    {
     "name": "stdout",
     "output_type": "stream",
     "text": [
      "Thresh=0.00000, n=42056, Accuracy: 91.17%\n",
      "Thresh=0.00174, n=165, Accuracy: 91.17%\n",
      "Thresh=0.00348, n=109, Accuracy: 91.52%\n",
      "Thresh=0.00523, n=71, Accuracy: 90.46%\n",
      "Thresh=0.00697, n=55, Accuracy: 91.52%\n",
      "Thresh=0.00871, n=39, Accuracy: 89.75%\n",
      "Thresh=0.01045, n=32, Accuracy: 89.75%\n",
      "Thresh=0.01220, n=24, Accuracy: 90.81%\n",
      "Thresh=0.01394, n=15, Accuracy: 90.46%\n",
      "Thresh=0.01568, n=14, Accuracy: 90.46%\n",
      "Thresh=0.01742, n=11, Accuracy: 89.05%\n",
      "Thresh=0.01916, n=8, Accuracy: 87.99%\n",
      "Thresh=0.02091, n=7, Accuracy: 86.57%\n",
      "Thresh=0.02265, n=6, Accuracy: 85.87%\n",
      "Thresh=0.02613, n=3, Accuracy: 85.51%\n",
      "Thresh=0.03310, n=2, Accuracy: 81.27%\n",
      "Thresh=0.04007, n=1, Accuracy: 74.20%\n"
     ]
    }
   ],
   "source": [
    "thresh_acc={}\n",
    "\n",
    "for thresh in thresholds:\n",
    "    # select features using threshold\n",
    "    selection = SelectFromModel(model, threshold=thresh, prefit=True)\n",
    "    select_x_train = selection.transform(x_train)\n",
    "    # train model\n",
    "    selection_model = XGBClassifier()\n",
    "    selection_model.fit(select_x_train, y_train)\n",
    "    # eval model\n",
    "    select_x_test = selection.transform(x_test)\n",
    "    y_pred = selection_model.predict(select_x_test)\n",
    "    accuracy = accuracy_score(y_test, y_pred)\n",
    "    thresh_acc[thresh]=accuracy\n",
    "    print(\"Thresh=%.5f, n=%d, Accuracy: %.2f%%\" % (thresh, select_x_train.shape[1], accuracy*100.0))"
   ]
  },
  {
   "cell_type": "code",
   "execution_count": 15,
   "metadata": {},
   "outputs": [
    {
     "data": {
      "image/png": "[encoded data removed]",
      "text/plain": [
       "<Figure size 432x288 with 1 Axes>"
      ]
     },
     "metadata": {
      "needs_background": "light"
     },
     "output_type": "display_data"
    }
   ],
   "source": [
    "plt.scatter(thresh_acc.keys(),thresh_acc.values(),marker='.')\n",
    "plt.ylabel('% accuracy')\n",
    "plt.xlabel('features importance threshold for selection')\n",
    "plt.title('accuracy vs selection threshold')\n",
    "plt.savefig('bow_thresh.png')\n",
    "plt.show()"
   ]
  },
  {
   "cell_type": "markdown",
   "metadata": {},
   "source": [
    "so we can use a threshold of 0.007 where n=55 as this achieves greater accuracy than using all 42k features!!<br>\n",
    "This minimises the amount of required computational power."
   ]
  },
  {
   "cell_type": "markdown",
   "metadata": {},
   "source": [
    "## evaluation of model w selected features"
   ]
  },
  {
   "cell_type": "code",
   "execution_count": 13,
   "metadata": {},
   "outputs": [
    {
     "data": {
      "text/plain": [
       "(1882, 55)"
      ]
     },
     "execution_count": 13,
     "metadata": {},
     "output_type": "execute_result"
    }
   ],
   "source": [
    "selection = SelectFromModel(model, threshold=0.006968641, prefit=True)\n",
    "select_x_train = selection.transform(x_train)\n",
    "select_x_test = selection.transform(x_test)\n",
    "select_dataset = selection.transform(bow_nofeats)\n",
    "select_dataset.shape"
   ]
  },
  {
   "cell_type": "code",
   "execution_count": 15,
   "metadata": {},
   "outputs": [],
   "source": [
    "pickle.dump(select_dataset,open('selected_bow','wb'))"
   ]
  },
  {
   "cell_type": "code",
   "execution_count": 17,
   "metadata": {
    "scrolled": true
   },
   "outputs": [
    {
     "name": "stdout",
     "output_type": "stream",
     "text": [
      "acc: 0.9151943462897526\n",
      "f1: 0.8823529411764707\n",
      "              precision    recall  f1-score   support\n",
      "\n",
      "Not relevant       0.93      0.94      0.93       180\n",
      "    Relevant       0.89      0.87      0.88       103\n",
      "\n",
      "   micro avg       0.92      0.92      0.92       283\n",
      "   macro avg       0.91      0.91      0.91       283\n",
      "weighted avg       0.91      0.92      0.92       283\n",
      "\n"
     ]
    }
   ],
   "source": [
    "f_model = XGBClassifier().fit(select_x_train,y_train)\n",
    "fy_pred=f_model.predict(select_x_test)\n",
    "print('acc: {}'.format(accuracy_score(y_test,fy_pred)))\n",
    "print('f1: {}'.format(f1_score(y_test,fy_pred,pos_label='Relevant')))\n",
    "print(classification_report(y_test,fy_pred))"
   ]
  },
  {
   "cell_type": "markdown",
   "metadata": {},
   "source": [
    "<br><br><br><br><br><br><br><br><br><br>"
   ]
  },
  {
   "cell_type": "markdown",
   "metadata": {},
   "source": [
    "# TFIDF XGB\n",
    "## imports & setup"
   ]
  },
  {
   "cell_type": "code",
   "execution_count": 16,
   "metadata": {},
   "outputs": [],
   "source": [
    "tfidf_matrix=pickle.load(open('tfidf_matrix', 'rb'))\n",
    "\n",
    "csv = '/Users/cdw/Desktop/pkpd_script/RNR_ANALYSIS/ready_processed.csv'\n",
    "papers=pd.read_csv(csv)\n",
    "y = papers.loc[:,'category']\n",
    "\n",
    "tfidf_nofeats=pickle.load(open('tfidf_nofeats','rb'))\n",
    "tfidf_nofeats=pd.DataFrame(tfidf_nofeats.toarray())\n",
    "\n",
    "x_train,x_test,y_train,y_test=train_test_split(tfidf_nofeats,y,test_size=0.15,random_state=61097,stratify=y)"
   ]
  },
  {
   "cell_type": "code",
   "execution_count": 29,
   "metadata": {
    "scrolled": true
   },
   "outputs": [
    {
     "name": "stdout",
     "output_type": "stream",
     "text": [
      "TRAINING\n",
      " Not relevant    63.789869\n",
      "Relevant        36.210131\n",
      "Name: category, dtype: float64\n",
      "\n",
      "TESTING\n",
      " Not relevant    63.60424\n",
      "Relevant        36.39576\n",
      "Name: category, dtype: float64\n"
     ]
    }
   ],
   "source": [
    "preprof.print_proportions(y_train,y_test)"
   ]
  },
  {
   "cell_type": "code",
   "execution_count": 17,
   "metadata": {},
   "outputs": [],
   "source": [
    "model=XGBClassifier().fit(x_train,y_train)"
   ]
  },
  {
   "cell_type": "markdown",
   "metadata": {},
   "source": [
    "## feature importance plotting & identification"
   ]
  },
  {
   "cell_type": "code",
   "execution_count": 31,
   "metadata": {},
   "outputs": [
    {
     "data": {
      "image/png": "[encoded data removed]",
      "text/plain": [
       "<Figure size 432x288 with 1 Axes>"
      ]
     },
     "metadata": {
      "needs_background": "light"
     },
     "output_type": "display_data"
    }
   ],
   "source": [
    "ax = plot_importance(model)\n",
    "fig = ax.figure\n",
    "#plt.savefig('tfidf_featimp.png')"
   ]
  },
  {
   "cell_type": "code",
   "execution_count": 32,
   "metadata": {},
   "outputs": [],
   "source": [
    "## nparray of numerical importances, with dropped weird column\n",
    "feat_importance=np.array(list(model.feature_importances_[0:48])+list(model.feature_importances_[49:]))\n",
    "\n",
    "## list of feature names in order\n",
    "feature_names=list(tfidf_matrix)"
   ]
  },
  {
   "cell_type": "code",
   "execution_count": 33,
   "metadata": {},
   "outputs": [],
   "source": [
    "##returns index values for the num_feats highest values\n",
    "\n",
    "def max_ind(array,num_feats):\n",
    "    return list(array.argsort()[-num_feats:][::-1])"
   ]
  },
  {
   "cell_type": "code",
   "execution_count": 34,
   "metadata": {},
   "outputs": [],
   "source": [
    "## prints top n features\n",
    "def top_n_feats(feature_names,feat_importance,n):\n",
    "    top = []\n",
    "    for x in max_ind(feat_importance,n):\n",
    "        top.append(feature_names[x])\n",
    "    return top"
   ]
  },
  {
   "cell_type": "code",
   "execution_count": 35,
   "metadata": {},
   "outputs": [
    {
     "name": "stdout",
     "output_type": "stream",
     "text": [
      "pharmacokinet\n",
      "plasma\n",
      "adultM\n",
      "concentr\n",
      "clearanc\n",
      "pharmacokineticsT\n",
      "oral\n",
      "disposit\n",
      "half-lif\n",
      "review\n",
      "model\n",
      "drug\n",
      "auc\n",
      "animalsM\n",
      "mg/kg\n",
      "specif\n",
      "femaleM\n",
      "maleM\n",
      "perform\n",
      "area under curveM\n"
     ]
    }
   ],
   "source": [
    "top_20=top_n_feats(feature_names,feat_importance,20)\n",
    "for x in top_20:\n",
    "    print(x)"
   ]
  },
  {
   "cell_type": "code",
   "execution_count": 36,
   "metadata": {},
   "outputs": [
    {
     "data": {
      "image/png": "[encoded data removed]",
      "text/plain": [
       "<Figure size 720x576 with 1 Axes>"
      ]
     },
     "metadata": {
      "needs_background": "light"
     },
     "output_type": "display_data"
    }
   ],
   "source": [
    "data=pd.Series(feat_importance, index=feature_names).nlargest(20)\n",
    "fig=data.plot(kind='barh',figsize=(10,8))\n",
    "fig.figure.savefig('top20_tfidf.png')"
   ]
  },
  {
   "cell_type": "markdown",
   "metadata": {},
   "source": [
    "## feature selection"
   ]
  },
  {
   "cell_type": "code",
   "execution_count": 37,
   "metadata": {},
   "outputs": [],
   "source": [
    "thresholds = sorted(list(np.unique(model.feature_importances_)))"
   ]
  },
  {
   "cell_type": "code",
   "execution_count": 38,
   "metadata": {},
   "outputs": [
    {
     "name": "stdout",
     "output_type": "stream",
     "text": [
      "Thresh=0.00000, n=42056, Accuracy: 91.87%\n",
      "Thresh=0.00169, n=164, Accuracy: 91.87%\n",
      "Thresh=0.00338, n=110, Accuracy: 91.87%\n",
      "Thresh=0.00507, n=73, Accuracy: 91.17%\n",
      "Thresh=0.00676, n=51, Accuracy: 92.58%\n",
      "Thresh=0.00845, n=36, Accuracy: 92.23%\n",
      "Thresh=0.01014, n=26, Accuracy: 90.81%\n",
      "Thresh=0.01182, n=21, Accuracy: 92.23%\n",
      "Thresh=0.01351, n=17, Accuracy: 90.81%\n",
      "Thresh=0.01520, n=16, Accuracy: 92.23%\n",
      "Thresh=0.01689, n=15, Accuracy: 92.58%\n",
      "Thresh=0.01858, n=14, Accuracy: 91.87%\n",
      "Thresh=0.02027, n=12, Accuracy: 90.81%\n",
      "Thresh=0.02196, n=9, Accuracy: 90.11%\n",
      "Thresh=0.02365, n=6, Accuracy: 86.93%\n",
      "Thresh=0.02534, n=4, Accuracy: 82.69%\n",
      "Thresh=0.02872, n=3, Accuracy: 81.63%\n",
      "Thresh=0.03209, n=2, Accuracy: 78.45%\n",
      "Thresh=0.04561, n=1, Accuracy: 73.50%\n"
     ]
    }
   ],
   "source": [
    "thresh_acc={}\n",
    "\n",
    "for thresh in thresholds:\n",
    "    # select features using threshold\n",
    "    selection = SelectFromModel(model, threshold=thresh, prefit=True)\n",
    "    select_x_train = selection.transform(x_train)\n",
    "    # train model\n",
    "    selection_model = XGBClassifier().set_params(**params_tfidf)\n",
    "    selection_model.fit(select_x_train, y_train)\n",
    "    # eval model\n",
    "    select_x_test = selection.transform(x_test)\n",
    "    y_pred = selection_model.predict(select_x_test)\n",
    "    accuracy = accuracy_score(y_test, y_pred)\n",
    "    thresh_acc[thresh]=accuracy\n",
    "    print(\"Thresh=%.5f, n=%d, Accuracy: %.2f%%\" % (thresh, select_x_train.shape[1], accuracy*100.0))"
   ]
  },
  {
   "cell_type": "code",
   "execution_count": 40,
   "metadata": {},
   "outputs": [
    {
     "data": {
      "image/png": "[encoded data removed]",
      "text/plain": [
       "<Figure size 432x288 with 1 Axes>"
      ]
     },
     "metadata": {
      "needs_background": "light"
     },
     "output_type": "display_data"
    }
   ],
   "source": [
    "plt.scatter(thresh_acc.keys(),thresh_acc.values(),marker='.')\n",
    "plt.ylabel('% accuracy')\n",
    "plt.xlabel('features importance threshold for selection')\n",
    "plt.title('accuracy vs selection threshold')\n",
    "plt.savefig('tfidf_thresh.png')\n",
    "plt.show()"
   ]
  },
  {
   "cell_type": "markdown",
   "metadata": {},
   "source": [
    "so we can use a threshold of 0.005 where n=192 as this achieves almost the same accuracy as using all 42k features.<br>\n",
    "There's a trade-off between the number computational power and accuracy but it's worth it."
   ]
  },
  {
   "cell_type": "markdown",
   "metadata": {},
   "source": [
    "## evaluation of model w selected features"
   ]
  },
  {
   "cell_type": "code",
   "execution_count": 18,
   "metadata": {},
   "outputs": [
    {
     "data": {
      "text/plain": [
       "(1599, 51)"
      ]
     },
     "execution_count": 18,
     "metadata": {},
     "output_type": "execute_result"
    }
   ],
   "source": [
    "selection = SelectFromModel(model, threshold=0.0067, prefit=True)\n",
    "select_x_train = selection.transform(x_train)\n",
    "select_x_test = selection.transform(x_test)\n",
    "select_data=selection.transform(tfidf_nofeats)\n",
    "select_x_train.shape"
   ]
  },
  {
   "cell_type": "code",
   "execution_count": 19,
   "metadata": {},
   "outputs": [],
   "source": [
    "pickle.dump(select_data,open('selected_tfidf','wb'))"
   ]
  },
  {
   "cell_type": "code",
   "execution_count": 43,
   "metadata": {
    "scrolled": true
   },
   "outputs": [
    {
     "name": "stdout",
     "output_type": "stream",
     "text": [
      "0.9257950530035336\n",
      "0.896551724137931\n",
      "              precision    recall  f1-score   support\n",
      "\n",
      "Not relevant       0.93      0.95      0.94       180\n",
      "    Relevant       0.91      0.88      0.90       103\n",
      "\n",
      "   micro avg       0.93      0.93      0.93       283\n",
      "   macro avg       0.92      0.92      0.92       283\n",
      "weighted avg       0.93      0.93      0.93       283\n",
      "\n"
     ]
    }
   ],
   "source": [
    "f_model = XGBClassifier().fit(select_x_train,y_train)\n",
    "fy_pred=f_model.predict(select_x_test)\n",
    "print(accuracy_score(y_test,fy_pred))\n",
    "print(f1_score(y_test,fy_pred,pos_label='Relevant'))\n",
    "print(classification_report(y_test,fy_pred))"
   ]
  }
 ],
 "metadata": {
  "kernelspec": {
   "display_name": "Python 3",
   "language": "python",
   "name": "python3"
  },
  "language_info": {
   "codemirror_mode": {
    "name": "ipython",
    "version": 3
   },
   "file_extension": ".py",
   "mimetype": "text/x-python",
   "name": "python",
   "nbconvert_exporter": "python",
   "pygments_lexer": "ipython3",
   "version": "3.7.0"
  }
 },
 "nbformat": 4,
 "nbformat_minor": 2
}
