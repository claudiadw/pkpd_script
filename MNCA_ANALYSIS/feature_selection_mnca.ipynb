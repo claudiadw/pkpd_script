{
 "cells": [
  {
   "cell_type": "code",
   "execution_count": 1,
   "metadata": {},
   "outputs": [],
   "source": [
    "import pickle\n",
    "import matplotlib.pyplot as plt\n",
    "import numpy as np\n",
    "import pandas as pd\n",
    "from sklearn.model_selection import train_test_split\n",
    "from sklearn.metrics import accuracy_score, f1_score, classification_report\n",
    "from sklearn.feature_selection import SelectFromModel\n",
    "from sklearn.svm import LinearSVC\n",
    "import preprof               ## my functions!"
   ]
  },
  {
   "cell_type": "markdown",
   "metadata": {},
   "source": [
    "# LinearSVC tfidf\n",
    "## imports & setup"
   ]
  },
  {
   "cell_type": "code",
   "execution_count": 2,
   "metadata": {},
   "outputs": [],
   "source": [
    "tfidf_matrix=pickle.load(open('tfidf_matrix', 'rb'))\n",
    "\n",
    "csv = '/Users/cdw/Desktop/pkpd_script/MNCA_ANALYSIS/ready_processed_2.csv'\n",
    "papers=pd.read_csv(csv)\n",
    "relevant = ['Non-compartmental','Modelling']\n",
    "relevant_papers = papers.loc[papers['category'].isin(relevant)]\n",
    "y = relevant_papers.loc[:,'category']\n",
    "\n",
    "tfidf_nofeats=pickle.load(open('tfidf_nofeats','rb'))\n",
    "tfidf_nofeats=pd.DataFrame(tfidf_nofeats.toarray())\n",
    "\n",
    "x_train,x_test,y_train,y_test=train_test_split(tfidf_nofeats,y,test_size=0.15,random_state=61097,stratify=y)"
   ]
  },
  {
   "cell_type": "code",
   "execution_count": 3,
   "metadata": {},
   "outputs": [
    {
     "data": {
      "text/plain": [
       "(682, 13772)"
      ]
     },
     "execution_count": 3,
     "metadata": {},
     "output_type": "execute_result"
    }
   ],
   "source": [
    "tfidf_nofeats.shape"
   ]
  },
  {
   "cell_type": "code",
   "execution_count": 4,
   "metadata": {},
   "outputs": [],
   "source": [
    "###tfidf_nofeats=tfidf_nofeats.drop(columns=11)"
   ]
  },
  {
   "cell_type": "code",
   "execution_count": 5,
   "metadata": {},
   "outputs": [
    {
     "name": "stdout",
     "output_type": "stream",
     "text": [
      "TRAINING\n",
      " Modelling            64.939551\n",
      "Non-compartmental    35.060449\n",
      "Name: category, dtype: float64\n",
      "\n",
      "TESTING\n",
      " Modelling            65.048544\n",
      "Non-compartmental    34.951456\n",
      "Name: category, dtype: float64\n"
     ]
    }
   ],
   "source": [
    "preprof.print_proportions(y_train,y_test)"
   ]
  },
  {
   "cell_type": "code",
   "execution_count": 6,
   "metadata": {},
   "outputs": [
    {
     "name": "stdout",
     "output_type": "stream",
     "text": [
      "acc: 0.8932038834951457\n",
      "f1: 0.8450704225352113\n"
     ]
    }
   ],
   "source": [
    "model=LinearSVC(random_state=61097).fit(x_train,y_train)\n",
    "original_pred=model.predict(x_test)\n",
    "\n",
    "original_acc=accuracy_score(y_test,original_pred)\n",
    "original_f1=f1_score(y_test,original_pred,pos_label='Non-compartmental')\n",
    "\n",
    "print('acc: {}'.format(original_acc))\n",
    "print('f1: {}'.format(original_f1))"
   ]
  },
  {
   "cell_type": "markdown",
   "metadata": {},
   "source": [
    "## feature importance plotting & identification"
   ]
  },
  {
   "cell_type": "code",
   "execution_count": 7,
   "metadata": {},
   "outputs": [],
   "source": [
    "y_impts = model.coef_\n",
    "y_impts_sind = np.argsort(y_impts).reshape(13772,1).tolist()\n",
    "y_impts_sind = [int(x[0]) for x in y_impts_sind]\n",
    "x_feats = list(tfidf_matrix)\n",
    "xy = list(zip(y_impts_sind,x_feats))\n",
    "x_final = [x for _, x in sorted(xy)]\n",
    "\n",
    "y_impts = sorted([float(x) for x in np.nditer(y_impts)])"
   ]
  },
  {
   "cell_type": "code",
   "execution_count": 8,
   "metadata": {},
   "outputs": [],
   "source": [
    "## nparray of numerical importances, with dropped weird column\n",
    "imp=[abs(x) for x in model.coef_]\n",
    "feat_importance=np.array(imp)\n",
    "\n",
    "## list of feature names in order\n",
    "feature_names=list(tfidf_matrix)"
   ]
  },
  {
   "cell_type": "code",
   "execution_count": 9,
   "metadata": {},
   "outputs": [],
   "source": [
    "##returns index values for the num_feats highest values\n",
    "\n",
    "def max_ind(array,num_feats):\n",
    "    inds = array.argsort()\n",
    "    inds = inds.reshape(inds.shape[1],1)\n",
    "    inds = inds[-num_feats:][::-1]\n",
    "    aa=[int(x) for x in inds]\n",
    "    return aa"
   ]
  },
  {
   "cell_type": "code",
   "execution_count": 10,
   "metadata": {},
   "outputs": [],
   "source": [
    "## prints top n features\n",
    "def top_n_feats(feature_names,feat_importance,n):\n",
    "    top = []\n",
    "    for x in max_ind(feat_importance,n):\n",
    "        top.append(feature_names[x])\n",
    "    return top"
   ]
  },
  {
   "cell_type": "code",
   "execution_count": 11,
   "metadata": {},
   "outputs": [
    {
     "name": "stdout",
     "output_type": "stream",
     "text": [
      "model\n",
      "metabol\n",
      "formul\n",
      "popul\n",
      "cyp3a4\n",
      "ketoconazol\n",
      "clearanc\n",
      "amoxicillin\n",
      "inhibitor\n",
      "im\n",
      "rifampin\n",
      "rat\n",
      "dose\n",
      "decreas\n",
      "bioequival\n",
      "p\n",
      "increas\n",
      "rtx\n",
      "chicken\n",
      "edd\n"
     ]
    }
   ],
   "source": [
    "top_30=top_n_feats(feature_names,feat_importance,20)\n",
    "for x in top_30:\n",
    "    print(x)"
   ]
  },
  {
   "cell_type": "markdown",
   "metadata": {},
   "source": [
    "## feature selection"
   ]
  },
  {
   "cell_type": "code",
   "execution_count": 12,
   "metadata": {},
   "outputs": [
    {
     "data": {
      "image/png": "[encoded data removed]",
      "text/plain": [
       "<Figure size 720x576 with 1 Axes>"
      ]
     },
     "metadata": {
      "needs_background": "light"
     },
     "output_type": "display_data"
    }
   ],
   "source": [
    "data=pd.Series(abs(model.coef_[0]), index=list(tfidf_matrix)).nlargest(20)\n",
    "fig=data.plot(kind='barh',figsize=(10,8))\n",
    "fig.figure.savefig('top_svm.png')"
   ]
  },
  {
   "cell_type": "code",
   "execution_count": 13,
   "metadata": {},
   "outputs": [],
   "source": [
    "impts = abs(model.coef_[0])\n",
    "my_dt = pd.DataFrame(impts)\n",
    "importances = [i[0] for i in my_dt.values.tolist()]"
   ]
  },
  {
   "cell_type": "code",
   "execution_count": 14,
   "metadata": {},
   "outputs": [],
   "source": [
    "def find(s, c1):\n",
    "    return [i for i, c2 in enumerate(s) if c2 == c1]"
   ]
  },
  {
   "cell_type": "code",
   "execution_count": 15,
   "metadata": {},
   "outputs": [
    {
     "name": "stdout",
     "output_type": "stream",
     "text": [
      ".................................................."
     ]
    }
   ],
   "source": [
    "thresh_acc={}\n",
    "thresholds = np.linspace(0,1,50)\n",
    "\n",
    "for thresh in thresholds:\n",
    "    # select features using threshold\n",
    "    tr_ind = []\n",
    "    for x in importances:\n",
    "        if x >= thresh:\n",
    "            inds=find(importances,x)\n",
    "            for i in inds:\n",
    "                tr_ind.append(i)\n",
    "    tr_ind=list(set(tr_ind))\n",
    "    select_x_train= x_train.iloc[:,tr_ind]\n",
    "    if select_x_train.shape[1]==0: continue\n",
    "    select_x_test = x_test.iloc[:,tr_ind]\n",
    "    # train model\n",
    "    selection_model = LinearSVC(max_iter=10000,random_state=61097)\n",
    "    selection_model.fit(select_x_train, y_train)\n",
    "    # eval model\n",
    "    y_pred = selection_model.predict(select_x_test)\n",
    "    accuracy = accuracy_score(y_test, y_pred)\n",
    "    thresh_acc[thresh]=accuracy\n",
    "    print('.',end='')"
   ]
  },
  {
   "cell_type": "code",
   "execution_count": 16,
   "metadata": {},
   "outputs": [
    {
     "data": {
      "image/png": "[encoded data removed]",
      "text/plain": [
       "<Figure size 432x288 with 1 Axes>"
      ]
     },
     "metadata": {
      "needs_background": "light"
     },
     "output_type": "display_data"
    }
   ],
   "source": [
    "plt.scatter(thresh_acc.keys(),thresh_acc.values(),marker=\".\")\n",
    "plt.ylabel('% accuracy')\n",
    "plt.xlabel('features importance threshold for selection')\n",
    "plt.title('accuracy vs selection threshold')\n",
    "plt.savefig('sel_thresholds.png')\n",
    "plt.show()"
   ]
  },
  {
   "cell_type": "markdown",
   "metadata": {},
   "source": [
    "<br><br><br><br>"
   ]
  },
  {
   "cell_type": "code",
   "execution_count": 17,
   "metadata": {},
   "outputs": [],
   "source": [
    "tr_ind = []\n",
    "for x in importances:\n",
    "    if x >= 0.33:\n",
    "        inds=find(importances,x)\n",
    "        for i in inds:\n",
    "            tr_ind.append(i)\n",
    "tr_ind=list(set(tr_ind))"
   ]
  },
  {
   "cell_type": "code",
   "execution_count": 18,
   "metadata": {},
   "outputs": [
    {
     "name": "stdout",
     "output_type": "stream",
     "text": [
      "320\n"
     ]
    }
   ],
   "source": [
    "print(len(tr_ind))"
   ]
  },
  {
   "cell_type": "code",
   "execution_count": 19,
   "metadata": {},
   "outputs": [],
   "source": [
    "select_x_train= x_train.iloc[:,tr_ind]\n",
    "select_x_test = x_test.iloc[:,tr_ind]\n",
    "# train model\n",
    "selection_model = LinearSVC(max_iter=10000)\n",
    "selection_model.fit(select_x_train, y_train)\n",
    "# eval model\n",
    "y_pred = selection_model.predict(select_x_test)\n",
    "accuracy_opt = accuracy_score(y_test, y_pred)\n",
    "f1_opt = f1_score(y_test,y_pred,pos_label='Non-compartmental')\n",
    "cr_opt=classification_report(y_test,y_pred)"
   ]
  },
  {
   "cell_type": "code",
   "execution_count": 20,
   "metadata": {},
   "outputs": [],
   "source": [
    "select_dataset=tfidf_nofeats.iloc[:,tr_ind]\n",
    "pickle.dump(select_dataset,open('tfidf_nofeats_selected','wb'))"
   ]
  },
  {
   "cell_type": "code",
   "execution_count": 21,
   "metadata": {},
   "outputs": [
    {
     "name": "stdout",
     "output_type": "stream",
     "text": [
      "0.8737864077669902\n",
      "0.8219178082191781\n"
     ]
    }
   ],
   "source": [
    "print(accuracy_opt)\n",
    "print(f1_opt)"
   ]
  },
  {
   "cell_type": "code",
   "execution_count": 22,
   "metadata": {},
   "outputs": [
    {
     "name": "stdout",
     "output_type": "stream",
     "text": [
      "                   precision    recall  f1-score   support\n",
      "\n",
      "        Modelling       0.91      0.90      0.90        67\n",
      "Non-compartmental       0.81      0.83      0.82        36\n",
      "\n",
      "        micro avg       0.87      0.87      0.87       103\n",
      "        macro avg       0.86      0.86      0.86       103\n",
      "     weighted avg       0.87      0.87      0.87       103\n",
      "\n"
     ]
    }
   ],
   "source": [
    "print(cr_opt)"
   ]
  }
 ],
 "metadata": {
  "kernelspec": {
   "display_name": "Python 3",
   "language": "python",
   "name": "python3"
  },
  "language_info": {
   "codemirror_mode": {
    "name": "ipython",
    "version": 3
   },
   "file_extension": ".py",
   "mimetype": "text/x-python",
   "name": "python",
   "nbconvert_exporter": "python",
   "pygments_lexer": "ipython3",
   "version": "3.7.0"
  }
 },
 "nbformat": 4,
 "nbformat_minor": 2
}
